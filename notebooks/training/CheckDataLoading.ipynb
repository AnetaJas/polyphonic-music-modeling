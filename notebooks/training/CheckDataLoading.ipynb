{
 "cells": [
  {
   "cell_type": "markdown",
   "metadata": {},
   "source": [
    "##  Data Loading"
   ]
  },
  {
   "cell_type": "code",
   "execution_count": 388,
   "metadata": {},
   "outputs": [
    {
     "name": "stderr",
     "output_type": "stream",
     "text": [
      "[autoreload of scripts.dataset.dataset_loading failed: Traceback (most recent call last):\n",
      "  File \"/home/aneta/.local/lib/python3.6/site-packages/IPython/extensions/autoreload.py\", line 245, in check\n",
      "    superreload(m, reload, self.old_objects)\n",
      "  File \"/home/aneta/.local/lib/python3.6/site-packages/IPython/extensions/autoreload.py\", line 410, in superreload\n",
      "    update_generic(old_obj, new_obj)\n",
      "  File \"/home/aneta/.local/lib/python3.6/site-packages/IPython/extensions/autoreload.py\", line 347, in update_generic\n",
      "    update(a, b)\n",
      "  File \"/home/aneta/.local/lib/python3.6/site-packages/IPython/extensions/autoreload.py\", line 302, in update_class\n",
      "    if update_generic(old_obj, new_obj): continue\n",
      "  File \"/home/aneta/.local/lib/python3.6/site-packages/IPython/extensions/autoreload.py\", line 347, in update_generic\n",
      "    update(a, b)\n",
      "  File \"/home/aneta/.local/lib/python3.6/site-packages/IPython/extensions/autoreload.py\", line 302, in update_class\n",
      "    if update_generic(old_obj, new_obj): continue\n",
      "  File \"/home/aneta/.local/lib/python3.6/site-packages/IPython/extensions/autoreload.py\", line 347, in update_generic\n",
      "    update(a, b)\n",
      "  File \"/home/aneta/.local/lib/python3.6/site-packages/IPython/extensions/autoreload.py\", line 302, in update_class\n",
      "    if update_generic(old_obj, new_obj): continue\n",
      "  File \"/home/aneta/.local/lib/python3.6/site-packages/IPython/extensions/autoreload.py\", line 347, in update_generic\n",
      "    update(a, b)\n",
      "  File \"/home/aneta/.local/lib/python3.6/site-packages/IPython/extensions/autoreload.py\", line 302, in update_class\n",
      "    if update_generic(old_obj, new_obj): continue\n",
      "RecursionError: maximum recursion depth exceeded\n",
      "]\n"
     ]
    }
   ],
   "source": [
    "import os\n",
    "\n",
    "os.chdir(\"/home/aneta/Desktop/ZZSN/code/polyphonic-music-modeling\")"
   ]
  },
  {
   "cell_type": "code",
   "execution_count": 389,
   "metadata": {},
   "outputs": [
    {
     "name": "stdout",
     "output_type": "stream",
     "text": [
      "/home/aneta/Desktop/ZZSN/code/polyphonic-music-modeling\n"
     ]
    }
   ],
   "source": [
    "!pwd"
   ]
  },
  {
   "cell_type": "code",
   "execution_count": 390,
   "metadata": {},
   "outputs": [
    {
     "name": "stdout",
     "output_type": "stream",
     "text": [
      "The autoreload extension is already loaded. To reload it, use:\n",
      "  %reload_ext autoreload\n"
     ]
    }
   ],
   "source": [
    "import matplotlib.pyplot as plt\n",
    "from scripts.dataset import dataset_loading as dl\n",
    "\n",
    "%load_ext autoreload\n",
    "%autoreload 2"
   ]
  },
  {
   "cell_type": "code",
   "execution_count": 391,
   "metadata": {},
   "outputs": [],
   "source": [
    "DATASET_PATH = os.path.join(os.getcwd(), \"data\", \"dataset\", \"test\")"
   ]
  },
  {
   "cell_type": "code",
   "execution_count": 392,
   "metadata": {},
   "outputs": [],
   "source": [
    "dataset = dl.MusicDataset(dataset_root=DATASET_PATH)"
   ]
  },
  {
   "cell_type": "code",
   "execution_count": 393,
   "metadata": {},
   "outputs": [
    {
     "name": "stdout",
     "output_type": "stream",
     "text": [
      "(tensor([38,  1,  6, 36, 15, 53, 37, 14, 23, 54,  3, 36, 37, 14, 23, 54,  6, 44,\n",
      "         3, 43, 27, 23, 23, 22, 28, 16, 31, 13, 21,  3, 30, 37, 26, 22, 11,  3,\n",
      "        12, 13, 23, 13, 29, 13, 26,  7,  6, 41, 15, 35, 40, 13, 54, 14, 27, 32,\n",
      "         8,  6, 30, 15, 24,  2, 24,  6, 48, 15]), tensor([ 1,  6, 36, 15, 53, 37, 14, 23, 54,  3, 36, 37, 14, 23, 54,  6, 44,  3,\n",
      "        43, 27, 23, 23, 22, 28, 16, 31, 13, 21,  3, 30, 37, 26, 22, 11,  3, 12,\n",
      "        13, 23, 13, 29, 13, 26,  7,  6, 41, 15, 35, 40, 13, 54, 14, 27, 32,  8,\n",
      "         6, 30, 15, 24,  2, 24,  6, 48, 15, 38]))\n"
     ]
    }
   ],
   "source": [
    "print(dataset[4])"
   ]
  },
  {
   "cell_type": "code",
   "execution_count": 394,
   "metadata": {},
   "outputs": [
    {
     "name": "stdout",
     "output_type": "stream",
     "text": [
      "42035\n"
     ]
    }
   ],
   "source": [
    "print(len(dataset))"
   ]
  },
  {
   "cell_type": "code",
   "execution_count": 395,
   "metadata": {},
   "outputs": [
    {
     "name": "stdout",
     "output_type": "stream",
     "text": [
      "(tensor([ 0,  7, 14, 60, 19, 16, 14,  7,  4,  0, 10,  0,  8,  1,  9,  1,  3,  0,\n",
      "        12, 18,  0,  5,  9, 60, 19, 11,  9,  5,  4,  0, 10,  0, 10,  1, 10,  1,\n",
      "         3,  0, 17, 21,  0, 10,  5,  9,  5,  4,  0, 12, 18,  0, 10,  1, 20,  1,\n",
      "         3,  0, 10,  0, 10,  1,  4,  4,  6,  6]), tensor([ 7, 14, 60, 19, 16, 14,  7,  4,  0, 10,  0,  8,  1,  9,  1,  3,  0, 12,\n",
      "        18,  0,  5,  9, 60, 19, 11,  9,  5,  4,  0, 10,  0, 10,  1, 10,  1,  3,\n",
      "         0, 17, 21,  0, 10,  5,  9,  5,  4,  0, 12, 18,  0, 10,  1, 20,  1,  3,\n",
      "         0, 10,  0, 10,  1,  4,  4,  6,  6]))\n",
      "(tensor([6]), tensor([]))\n"
     ]
    }
   ],
   "source": [
    "print(dataset[len(dataset)])\n",
    "print(dataset[len(dataset)+63])"
   ]
  },
  {
   "cell_type": "code",
   "execution_count": 396,
   "metadata": {},
   "outputs": [
    {
     "name": "stdout",
     "output_type": "stream",
     "text": [
      "['\\nX: 12\\nT:Rufty Tufty\\n% Nottingham Music Database\\nS:Playford\\nM:4/', 'X: 12\\nT:Rufty Tufty\\n% Nottingham Music Database\\nS:Playford\\nM:4/4']\n"
     ]
    }
   ],
   "source": [
    "print(dataset.get_encoded_item(0))"
   ]
  },
  {
   "cell_type": "code",
   "execution_count": 397,
   "metadata": {},
   "outputs": [],
   "source": [
    "DATASET_PATH = os.path.join(os.getcwd(), \"data\", \"dataset\", \"my\")\n",
    "dataset = dl.MusicDataset(dataset_root=DATASET_PATH)"
   ]
  },
  {
   "cell_type": "code",
   "execution_count": 398,
   "metadata": {},
   "outputs": [],
   "source": [
    "#i = 1\n",
    "#for data in dataset:\n",
    "#    if i%250 == 0:\n",
    "#        print(i)\n",
    "#    i += 1\n",
    "#print(i)"
   ]
  }
 ],
 "metadata": {
  "interpreter": {
   "hash": "31f2aee4e71d21fbe5cf8b01ff0e069b9275f58929596ceb00d14d90e3e16cd6"
  },
  "kernelspec": {
   "display_name": "Python 3.6.9 64-bit",
   "language": "python",
   "name": "python3"
  },
  "language_info": {
   "codemirror_mode": {
    "name": "ipython",
    "version": 3
   },
   "file_extension": ".py",
   "mimetype": "text/x-python",
   "name": "python",
   "nbconvert_exporter": "python",
   "pygments_lexer": "ipython3",
   "version": "3.6.9"
  },
  "orig_nbformat": 4
 },
 "nbformat": 4,
 "nbformat_minor": 2
}
