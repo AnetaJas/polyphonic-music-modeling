{
 "cells": [
  {
   "cell_type": "markdown",
   "metadata": {},
   "source": [
    "##  Data Loading"
   ]
  },
  {
   "cell_type": "code",
   "execution_count": 46,
   "metadata": {},
   "outputs": [
    {
     "name": "stderr",
     "output_type": "stream",
     "text": [
      "[autoreload of scripts.dataset.dataset_loading failed: Traceback (most recent call last):\n",
      "  File \"/home/aneta/.local/lib/python3.6/site-packages/IPython/extensions/autoreload.py\", line 245, in check\n",
      "    superreload(m, reload, self.old_objects)\n",
      "  File \"/home/aneta/.local/lib/python3.6/site-packages/IPython/extensions/autoreload.py\", line 410, in superreload\n",
      "    update_generic(old_obj, new_obj)\n",
      "  File \"/home/aneta/.local/lib/python3.6/site-packages/IPython/extensions/autoreload.py\", line 347, in update_generic\n",
      "    update(a, b)\n",
      "  File \"/home/aneta/.local/lib/python3.6/site-packages/IPython/extensions/autoreload.py\", line 302, in update_class\n",
      "    if update_generic(old_obj, new_obj): continue\n",
      "  File \"/home/aneta/.local/lib/python3.6/site-packages/IPython/extensions/autoreload.py\", line 347, in update_generic\n",
      "    update(a, b)\n",
      "  File \"/home/aneta/.local/lib/python3.6/site-packages/IPython/extensions/autoreload.py\", line 302, in update_class\n",
      "    if update_generic(old_obj, new_obj): continue\n",
      "  File \"/home/aneta/.local/lib/python3.6/site-packages/IPython/extensions/autoreload.py\", line 347, in update_generic\n",
      "    update(a, b)\n",
      "  File \"/home/aneta/.local/lib/python3.6/site-packages/IPython/extensions/autoreload.py\", line 302, in update_class\n",
      "    if update_generic(old_obj, new_obj): continue\n",
      "  File \"/home/aneta/.local/lib/python3.6/site-packages/IPython/extensions/autoreload.py\", line 347, in update_generic\n",
      "    update(a, b)\n",
      "  File \"/home/aneta/.local/lib/python3.6/site-packages/IPython/extensions/autoreload.py\", line 302, in update_class\n",
      "    if update_generic(old_obj, new_obj): continue\n",
      "RecursionError: maximum recursion depth exceeded\n",
      "]\n"
     ]
    }
   ],
   "source": [
    "import os\n",
    "\n",
    "os.chdir(\"/home/aneta/Desktop/ZZSN/code/polyphonic-music-modeling\")"
   ]
  },
  {
   "cell_type": "code",
   "execution_count": 47,
   "metadata": {},
   "outputs": [
    {
     "name": "stdout",
     "output_type": "stream",
     "text": [
      "/home/aneta/Desktop/ZZSN/code/polyphonic-music-modeling\n"
     ]
    }
   ],
   "source": [
    "!pwd"
   ]
  },
  {
   "cell_type": "code",
   "execution_count": 48,
   "metadata": {},
   "outputs": [
    {
     "name": "stdout",
     "output_type": "stream",
     "text": [
      "The autoreload extension is already loaded. To reload it, use:\n",
      "  %reload_ext autoreload\n"
     ]
    }
   ],
   "source": [
    "import matplotlib.pyplot as plt\n",
    "from scripts.dataset import dataset_loading as dl\n",
    "\n",
    "%load_ext autoreload\n",
    "%autoreload 2"
   ]
  },
  {
   "cell_type": "code",
   "execution_count": 49,
   "metadata": {},
   "outputs": [],
   "source": [
    "DATASET_PATH = os.path.join(os.getcwd(), \"data\", \"dataset\", \"test\")"
   ]
  },
  {
   "cell_type": "code",
   "execution_count": 50,
   "metadata": {},
   "outputs": [],
   "source": [
    "dataset = dl.MusicDataset(dataset_root=DATASET_PATH)"
   ]
  },
  {
   "cell_type": "code",
   "execution_count": 51,
   "metadata": {},
   "outputs": [
    {
     "name": "stdout",
     "output_type": "stream",
     "text": [
      "(tensor([ 4,  1, 12,  1,  7,  2,  6,  1,  5, 16,  1,  7, 11,  4,  1, 12,  1, 13,\n",
      "         2,  6, 11, 13,  4,  1,  8,  1, 15, 15,  6,  1,  5, 16,  1, 13, 11,  4,\n",
      "         1, 12,  1,  7, 18, 24,  4, 14,  4, 24, 11,  3,  2, 13,  3,  2,  4,  1,\n",
      "        22,  1, 15, 13,  6, 11,  7,  4,  1,  8]), tensor([ 1, 12,  1,  7,  2,  6,  1,  5, 16,  1,  7, 11,  4,  1, 12,  1, 13,  2,\n",
      "         6, 11, 13,  4,  1,  8,  1, 15, 15,  6,  1,  5, 16,  1, 13, 11,  4,  1,\n",
      "        12,  1,  7, 18, 24,  4, 14,  4, 24, 11,  3,  2, 13,  3,  2,  4,  1, 22,\n",
      "         1, 15, 13,  6, 11,  7,  4,  1,  8,  1]))\n"
     ]
    }
   ],
   "source": [
    "print(dataset[4])"
   ]
  },
  {
   "cell_type": "code",
   "execution_count": 52,
   "metadata": {},
   "outputs": [
    {
     "name": "stdout",
     "output_type": "stream",
     "text": [
      "33399\n"
     ]
    }
   ],
   "source": [
    "print(len(dataset))"
   ]
  },
  {
   "cell_type": "code",
   "execution_count": 53,
   "metadata": {},
   "outputs": [
    {
     "name": "stdout",
     "output_type": "stream",
     "text": [
      "(tensor([15, 20,  6, 11, 20, 10,  2,  4,  1, 12,  1, 30, 18, 20, 26, 20, 13, 20,\n",
      "         6,  7, 20,  5,  2,  4,  1,  8,  1, 30, 18, 15, 20, 15,  8, 15,  6,  1,\n",
      "        12,  1, 30, 18, 13, 15, 13,  5, 13,  4,  1,  5, 16,  1, 11,  5,  9, 10,\n",
      "         6,  1, 12,  1,  7,  2, 24,  4, 14, 14]), tensor([20,  6, 11, 20, 10,  2,  4,  1, 12,  1, 30, 18, 20, 26, 20, 13, 20,  6,\n",
      "         7, 20,  5,  2,  4,  1,  8,  1, 30, 18, 15, 20, 15,  8, 15,  6,  1, 12,\n",
      "         1, 30, 18, 13, 15, 13,  5, 13,  4,  1,  5, 16,  1, 11,  5,  9, 10,  6,\n",
      "         1, 12,  1,  7,  2, 24,  4, 14, 14]))\n",
      "(tensor([14]), tensor([]))\n"
     ]
    }
   ],
   "source": [
    "print(dataset[len(dataset)])\n",
    "print(dataset[len(dataset)+63])"
   ]
  },
  {
   "cell_type": "code",
   "execution_count": 54,
   "metadata": {},
   "outputs": [
    {
     "name": "stdout",
     "output_type": "stream",
     "text": [
      "['\\n|:A|\"D\"d2 \"A7\"de|\"D\"f2 ef|\"G\"gg \"A7\"fe|\"D\"d3:|\\n|:e/2f/2|\"C\"gf e', '|:A|\"D\"d2 \"A7\"de|\"D\"f2 ef|\"G\"gg \"A7\"fe|\"D\"d3:|\\n|:e/2f/2|\"C\"gf ed']\n"
     ]
    }
   ],
   "source": [
    "print(dataset.get_encoded_item(0))"
   ]
  },
  {
   "cell_type": "code",
   "execution_count": 55,
   "metadata": {},
   "outputs": [],
   "source": [
    "#i = 1\n",
    "#for data in dataset:\n",
    "#    if i%250 == 0:\n",
    "#        print(i)\n",
    "#    i += 1\n",
    "#print(i)"
   ]
  }
 ],
 "metadata": {
  "interpreter": {
   "hash": "31f2aee4e71d21fbe5cf8b01ff0e069b9275f58929596ceb00d14d90e3e16cd6"
  },
  "kernelspec": {
   "display_name": "Python 3.6.9 64-bit",
   "language": "python",
   "name": "python3"
  },
  "language_info": {
   "codemirror_mode": {
    "name": "ipython",
    "version": 3
   },
   "file_extension": ".py",
   "mimetype": "text/x-python",
   "name": "python",
   "nbconvert_exporter": "python",
   "pygments_lexer": "ipython3",
   "version": "3.6.9"
  },
  "orig_nbformat": 4
 },
 "nbformat": 4,
 "nbformat_minor": 2
}
